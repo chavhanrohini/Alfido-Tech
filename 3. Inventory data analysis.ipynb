{
 "cells": [
  {
   "cell_type": "markdown",
   "id": "b6927641",
   "metadata": {},
   "source": [
    "# Load the Data:"
   ]
  },
  {
   "cell_type": "code",
   "execution_count": 1,
   "id": "eb97a163",
   "metadata": {},
   "outputs": [],
   "source": [
    "import pandas as pd\n",
    "import matplotlib.pyplot as plt\n",
    "import seaborn as sns"
   ]
  },
  {
   "cell_type": "code",
   "execution_count": 2,
   "id": "28106fd4",
   "metadata": {},
   "outputs": [
    {
     "name": "stdout",
     "output_type": "stream",
     "text": [
      " Volume in drive C is OS\n",
      " Volume Serial Number is 62EE-5AD3\n",
      "\n",
      " Directory of C:\\Users\\Dell\\Alfido Tech\n",
      "\n",
      "23-12-2023  13:32    <DIR>          .\n",
      "16-12-2023  17:46    <DIR>          ..\n",
      "23-12-2023  12:17    <DIR>          .ipynb_checkpoints\n",
      "12-12-2023  14:34         1,155,266 1. Weather Data Analysis.ipynb\n",
      "12-12-2023  14:37             4,003 1. Weather Data Analysis.py\n",
      "22-12-2023  16:46           670,662 2. Uber Data Analysis.ipynb\n",
      "22-12-2023  16:47             6,393 2. Uber Data Analysis.py\n",
      "22-12-2023  16:55         1,157,603 2017PurchasePricesDec.csv\n",
      "23-12-2023  13:32            99,999 3. Inventory data analysis.ipynb\n",
      "22-12-2023  11:35    <DIR>          archive\n",
      "22-12-2023  16:55        19,306,233 BegInvFINAL12312016.csv\n",
      "22-12-2023  16:55        21,004,265 EndInvFINAL12312016.csv\n",
      "22-12-2023  16:55           591,021 InvoicePurchases12312016.csv\n",
      "22-12-2023  16:55       401,753,821 PurchasesFINAL12312016.csv\n",
      "22-12-2023  16:56       127,863,044 SalesFINAL12312016.csv\n",
      "22-12-2023  11:30            87,661 UberDataset.csv\n",
      "              12 File(s)    573,699,971 bytes\n",
      "               4 Dir(s)  58,325,495,808 bytes free\n"
     ]
    }
   ],
   "source": [
    "%ls"
   ]
  },
  {
   "cell_type": "code",
   "execution_count": 47,
   "id": "6d7adfe0",
   "metadata": {},
   "outputs": [],
   "source": [
    "# Replace 'your_file.csv' with the actual file path\n",
    "inventory_data = pd.read_csv('BegInvFINAL12312016.csv')\n"
   ]
  },
  {
   "cell_type": "markdown",
   "id": "096ea34c",
   "metadata": {},
   "source": [
    "# Explore the Data:"
   ]
  },
  {
   "cell_type": "code",
   "execution_count": 48,
   "id": "4716420e",
   "metadata": {},
   "outputs": [
    {
     "data": {
      "text/html": [
       "<div>\n",
       "<style scoped>\n",
       "    .dataframe tbody tr th:only-of-type {\n",
       "        vertical-align: middle;\n",
       "    }\n",
       "\n",
       "    .dataframe tbody tr th {\n",
       "        vertical-align: top;\n",
       "    }\n",
       "\n",
       "    .dataframe thead th {\n",
       "        text-align: right;\n",
       "    }\n",
       "</style>\n",
       "<table border=\"1\" class=\"dataframe\">\n",
       "  <thead>\n",
       "    <tr style=\"text-align: right;\">\n",
       "      <th></th>\n",
       "      <th>InventoryId</th>\n",
       "      <th>Store</th>\n",
       "      <th>City</th>\n",
       "      <th>Brand</th>\n",
       "      <th>Description</th>\n",
       "      <th>Size</th>\n",
       "      <th>onHand</th>\n",
       "      <th>Price</th>\n",
       "      <th>startDate</th>\n",
       "    </tr>\n",
       "  </thead>\n",
       "  <tbody>\n",
       "    <tr>\n",
       "      <th>0</th>\n",
       "      <td>1_HARDERSFIELD_58</td>\n",
       "      <td>1</td>\n",
       "      <td>HARDERSFIELD</td>\n",
       "      <td>58</td>\n",
       "      <td>Gekkeikan Black &amp; Gold Sake</td>\n",
       "      <td>750mL</td>\n",
       "      <td>8</td>\n",
       "      <td>12.99</td>\n",
       "      <td>2016-01-01</td>\n",
       "    </tr>\n",
       "    <tr>\n",
       "      <th>1</th>\n",
       "      <td>1_HARDERSFIELD_60</td>\n",
       "      <td>1</td>\n",
       "      <td>HARDERSFIELD</td>\n",
       "      <td>60</td>\n",
       "      <td>Canadian Club 1858 VAP</td>\n",
       "      <td>750mL</td>\n",
       "      <td>7</td>\n",
       "      <td>10.99</td>\n",
       "      <td>2016-01-01</td>\n",
       "    </tr>\n",
       "    <tr>\n",
       "      <th>2</th>\n",
       "      <td>1_HARDERSFIELD_62</td>\n",
       "      <td>1</td>\n",
       "      <td>HARDERSFIELD</td>\n",
       "      <td>62</td>\n",
       "      <td>Herradura Silver Tequila</td>\n",
       "      <td>750mL</td>\n",
       "      <td>6</td>\n",
       "      <td>36.99</td>\n",
       "      <td>2016-01-01</td>\n",
       "    </tr>\n",
       "    <tr>\n",
       "      <th>3</th>\n",
       "      <td>1_HARDERSFIELD_63</td>\n",
       "      <td>1</td>\n",
       "      <td>HARDERSFIELD</td>\n",
       "      <td>63</td>\n",
       "      <td>Herradura Reposado Tequila</td>\n",
       "      <td>750mL</td>\n",
       "      <td>3</td>\n",
       "      <td>38.99</td>\n",
       "      <td>2016-01-01</td>\n",
       "    </tr>\n",
       "    <tr>\n",
       "      <th>4</th>\n",
       "      <td>1_HARDERSFIELD_72</td>\n",
       "      <td>1</td>\n",
       "      <td>HARDERSFIELD</td>\n",
       "      <td>72</td>\n",
       "      <td>No. 3 London Dry Gin</td>\n",
       "      <td>750mL</td>\n",
       "      <td>6</td>\n",
       "      <td>34.99</td>\n",
       "      <td>2016-01-01</td>\n",
       "    </tr>\n",
       "    <tr>\n",
       "      <th>...</th>\n",
       "      <td>...</td>\n",
       "      <td>...</td>\n",
       "      <td>...</td>\n",
       "      <td>...</td>\n",
       "      <td>...</td>\n",
       "      <td>...</td>\n",
       "      <td>...</td>\n",
       "      <td>...</td>\n",
       "      <td>...</td>\n",
       "    </tr>\n",
       "    <tr>\n",
       "      <th>206524</th>\n",
       "      <td>79_BALLYMENA_46985</td>\n",
       "      <td>79</td>\n",
       "      <td>BALLYMENA</td>\n",
       "      <td>46985</td>\n",
       "      <td>Rodney Strong Cab Svgn Alexa</td>\n",
       "      <td>750mL</td>\n",
       "      <td>13</td>\n",
       "      <td>22.99</td>\n",
       "      <td>2016-01-01</td>\n",
       "    </tr>\n",
       "    <tr>\n",
       "      <th>206525</th>\n",
       "      <td>79_BALLYMENA_47014</td>\n",
       "      <td>79</td>\n",
       "      <td>BALLYMENA</td>\n",
       "      <td>47014</td>\n",
       "      <td>Juan Gil Jumilla Rd</td>\n",
       "      <td>750mL</td>\n",
       "      <td>13</td>\n",
       "      <td>13.99</td>\n",
       "      <td>2016-01-01</td>\n",
       "    </tr>\n",
       "    <tr>\n",
       "      <th>206526</th>\n",
       "      <td>79_BALLYMENA_47090</td>\n",
       "      <td>79</td>\n",
       "      <td>BALLYMENA</td>\n",
       "      <td>47090</td>\n",
       "      <td>Napa Cellars Cab Svgn Napa</td>\n",
       "      <td>750mL</td>\n",
       "      <td>19</td>\n",
       "      <td>23.99</td>\n",
       "      <td>2016-01-01</td>\n",
       "    </tr>\n",
       "    <tr>\n",
       "      <th>206527</th>\n",
       "      <td>79_BALLYMENA_90011</td>\n",
       "      <td>79</td>\n",
       "      <td>BALLYMENA</td>\n",
       "      <td>90011</td>\n",
       "      <td>Ch Pichon Longville 12 Pauil</td>\n",
       "      <td>750mL</td>\n",
       "      <td>12</td>\n",
       "      <td>144.99</td>\n",
       "      <td>2016-01-01</td>\n",
       "    </tr>\n",
       "    <tr>\n",
       "      <th>206528</th>\n",
       "      <td>79_BALLYMENA_90089</td>\n",
       "      <td>79</td>\n",
       "      <td>BALLYMENA</td>\n",
       "      <td>90089</td>\n",
       "      <td>Ch Lynch Bages 12 Pauillac</td>\n",
       "      <td>750mL</td>\n",
       "      <td>24</td>\n",
       "      <td>119.99</td>\n",
       "      <td>2016-01-01</td>\n",
       "    </tr>\n",
       "  </tbody>\n",
       "</table>\n",
       "<p>206529 rows × 9 columns</p>\n",
       "</div>"
      ],
      "text/plain": [
       "               InventoryId  Store          City  Brand  \\\n",
       "0        1_HARDERSFIELD_58      1  HARDERSFIELD     58   \n",
       "1        1_HARDERSFIELD_60      1  HARDERSFIELD     60   \n",
       "2        1_HARDERSFIELD_62      1  HARDERSFIELD     62   \n",
       "3        1_HARDERSFIELD_63      1  HARDERSFIELD     63   \n",
       "4        1_HARDERSFIELD_72      1  HARDERSFIELD     72   \n",
       "...                    ...    ...           ...    ...   \n",
       "206524  79_BALLYMENA_46985     79     BALLYMENA  46985   \n",
       "206525  79_BALLYMENA_47014     79     BALLYMENA  47014   \n",
       "206526  79_BALLYMENA_47090     79     BALLYMENA  47090   \n",
       "206527  79_BALLYMENA_90011     79     BALLYMENA  90011   \n",
       "206528  79_BALLYMENA_90089     79     BALLYMENA  90089   \n",
       "\n",
       "                         Description   Size  onHand   Price   startDate  \n",
       "0        Gekkeikan Black & Gold Sake  750mL       8   12.99  2016-01-01  \n",
       "1             Canadian Club 1858 VAP  750mL       7   10.99  2016-01-01  \n",
       "2           Herradura Silver Tequila  750mL       6   36.99  2016-01-01  \n",
       "3         Herradura Reposado Tequila  750mL       3   38.99  2016-01-01  \n",
       "4               No. 3 London Dry Gin  750mL       6   34.99  2016-01-01  \n",
       "...                              ...    ...     ...     ...         ...  \n",
       "206524  Rodney Strong Cab Svgn Alexa  750mL      13   22.99  2016-01-01  \n",
       "206525           Juan Gil Jumilla Rd  750mL      13   13.99  2016-01-01  \n",
       "206526    Napa Cellars Cab Svgn Napa  750mL      19   23.99  2016-01-01  \n",
       "206527  Ch Pichon Longville 12 Pauil  750mL      12  144.99  2016-01-01  \n",
       "206528    Ch Lynch Bages 12 Pauillac  750mL      24  119.99  2016-01-01  \n",
       "\n",
       "[206529 rows x 9 columns]"
      ]
     },
     "execution_count": 48,
     "metadata": {},
     "output_type": "execute_result"
    }
   ],
   "source": [
    "inventory_data"
   ]
  },
  {
   "cell_type": "code",
   "execution_count": 5,
   "id": "bda32ace",
   "metadata": {},
   "outputs": [
    {
     "data": {
      "text/plain": [
       "<bound method NDFrame.head of                InventoryId  Store          City  Brand  \\\n",
       "0        1_HARDERSFIELD_58      1  HARDERSFIELD     58   \n",
       "1        1_HARDERSFIELD_60      1  HARDERSFIELD     60   \n",
       "2        1_HARDERSFIELD_62      1  HARDERSFIELD     62   \n",
       "3        1_HARDERSFIELD_63      1  HARDERSFIELD     63   \n",
       "4        1_HARDERSFIELD_72      1  HARDERSFIELD     72   \n",
       "...                    ...    ...           ...    ...   \n",
       "206524  79_BALLYMENA_46985     79     BALLYMENA  46985   \n",
       "206525  79_BALLYMENA_47014     79     BALLYMENA  47014   \n",
       "206526  79_BALLYMENA_47090     79     BALLYMENA  47090   \n",
       "206527  79_BALLYMENA_90011     79     BALLYMENA  90011   \n",
       "206528  79_BALLYMENA_90089     79     BALLYMENA  90089   \n",
       "\n",
       "                         Description   Size  onHand   Price   startDate  \n",
       "0        Gekkeikan Black & Gold Sake  750mL       8   12.99  2016-01-01  \n",
       "1             Canadian Club 1858 VAP  750mL       7   10.99  2016-01-01  \n",
       "2           Herradura Silver Tequila  750mL       6   36.99  2016-01-01  \n",
       "3         Herradura Reposado Tequila  750mL       3   38.99  2016-01-01  \n",
       "4               No. 3 London Dry Gin  750mL       6   34.99  2016-01-01  \n",
       "...                              ...    ...     ...     ...         ...  \n",
       "206524  Rodney Strong Cab Svgn Alexa  750mL      13   22.99  2016-01-01  \n",
       "206525           Juan Gil Jumilla Rd  750mL      13   13.99  2016-01-01  \n",
       "206526    Napa Cellars Cab Svgn Napa  750mL      19   23.99  2016-01-01  \n",
       "206527  Ch Pichon Longville 12 Pauil  750mL      12  144.99  2016-01-01  \n",
       "206528    Ch Lynch Bages 12 Pauillac  750mL      24  119.99  2016-01-01  \n",
       "\n",
       "[206529 rows x 9 columns]>"
      ]
     },
     "execution_count": 5,
     "metadata": {},
     "output_type": "execute_result"
    }
   ],
   "source": [
    "inventory_data.head"
   ]
  },
  {
   "cell_type": "code",
   "execution_count": 49,
   "id": "6b8fff6e",
   "metadata": {},
   "outputs": [
    {
     "data": {
      "text/plain": [
       "Index(['InventoryId', 'Store', 'City', 'Brand', 'Description', 'Size',\n",
       "       'onHand', 'Price', 'startDate'],\n",
       "      dtype='object')"
      ]
     },
     "execution_count": 49,
     "metadata": {},
     "output_type": "execute_result"
    }
   ],
   "source": [
    "inventory_data.columns"
   ]
  },
  {
   "cell_type": "code",
   "execution_count": 6,
   "id": "a8a8edd9",
   "metadata": {},
   "outputs": [
    {
     "name": "stdout",
     "output_type": "stream",
     "text": [
      "<class 'pandas.core.frame.DataFrame'>\n",
      "RangeIndex: 206529 entries, 0 to 206528\n",
      "Data columns (total 9 columns):\n",
      " #   Column       Non-Null Count   Dtype  \n",
      "---  ------       --------------   -----  \n",
      " 0   InventoryId  206529 non-null  object \n",
      " 1   Store        206529 non-null  int64  \n",
      " 2   City         206529 non-null  object \n",
      " 3   Brand        206529 non-null  int64  \n",
      " 4   Description  206529 non-null  object \n",
      " 5   Size         206529 non-null  object \n",
      " 6   onHand       206529 non-null  int64  \n",
      " 7   Price        206529 non-null  float64\n",
      " 8   startDate    206529 non-null  object \n",
      "dtypes: float64(1), int64(3), object(5)\n",
      "memory usage: 14.2+ MB\n",
      "None\n"
     ]
    }
   ],
   "source": [
    "print(inventory_data.info())"
   ]
  },
  {
   "cell_type": "code",
   "execution_count": 7,
   "id": "0c905f6a",
   "metadata": {},
   "outputs": [
    {
     "name": "stdout",
     "output_type": "stream",
     "text": [
      "               Store          Brand         onHand          Price\n",
      "count  206529.000000  206529.000000  206529.000000  206529.000000\n",
      "mean       42.122457   13761.482320      20.429455      22.253910\n",
      "std        23.191393   13059.429355      31.467342      70.178964\n",
      "min         1.000000      58.000000       0.000000       0.000000\n",
      "25%        22.000000    3746.000000       7.000000       9.990000\n",
      "50%        42.000000    8010.000000      12.000000      14.990000\n",
      "75%        64.000000   22143.000000      21.000000      21.990000\n",
      "max        79.000000   90090.000000    1251.000000   13999.900000\n"
     ]
    }
   ],
   "source": [
    "print(inventory_data.describe())"
   ]
  },
  {
   "cell_type": "markdown",
   "id": "89fcec6c",
   "metadata": {},
   "source": [
    "# Clean and Preprocess Data:"
   ]
  },
  {
   "cell_type": "markdown",
   "id": "0cf8c97d",
   "metadata": {},
   "source": [
    "# 1. Handling Missing Values"
   ]
  },
  {
   "cell_type": "code",
   "execution_count": 8,
   "id": "a1bf9d05",
   "metadata": {},
   "outputs": [],
   "source": [
    "# Check for missing values in each column\n",
    "missing_values = inventory_data.isnull().sum()"
   ]
  },
  {
   "cell_type": "code",
   "execution_count": 9,
   "id": "9a3b5e2a",
   "metadata": {},
   "outputs": [
    {
     "data": {
      "text/plain": [
       "InventoryId    0\n",
       "Store          0\n",
       "City           0\n",
       "Brand          0\n",
       "Description    0\n",
       "Size           0\n",
       "onHand         0\n",
       "Price          0\n",
       "startDate      0\n",
       "dtype: int64"
      ]
     },
     "execution_count": 9,
     "metadata": {},
     "output_type": "execute_result"
    }
   ],
   "source": [
    "missing_values"
   ]
  },
  {
   "cell_type": "code",
   "execution_count": 10,
   "id": "a156856c",
   "metadata": {},
   "outputs": [
    {
     "data": {
      "text/plain": [
       "Series([], dtype: int64)"
      ]
     },
     "execution_count": 10,
     "metadata": {},
     "output_type": "execute_result"
    }
   ],
   "source": [
    "missing_values[missing_values > 0]"
   ]
  },
  {
   "cell_type": "markdown",
   "id": "5cec8d78",
   "metadata": {},
   "source": [
    "# 2. Handling Duplicates:"
   ]
  },
  {
   "cell_type": "code",
   "execution_count": 11,
   "id": "885c8af7",
   "metadata": {},
   "outputs": [],
   "source": [
    "# Check for duplicates\n",
    "duplicate_rows = inventory_data.duplicated()"
   ]
  },
  {
   "cell_type": "code",
   "execution_count": 12,
   "id": "f823ba93",
   "metadata": {},
   "outputs": [
    {
     "data": {
      "text/plain": [
       "0         False\n",
       "1         False\n",
       "2         False\n",
       "3         False\n",
       "4         False\n",
       "          ...  \n",
       "206524    False\n",
       "206525    False\n",
       "206526    False\n",
       "206527    False\n",
       "206528    False\n",
       "Length: 206529, dtype: bool"
      ]
     },
     "execution_count": 12,
     "metadata": {},
     "output_type": "execute_result"
    }
   ],
   "source": [
    "duplicate_rows"
   ]
  },
  {
   "cell_type": "code",
   "execution_count": 13,
   "id": "f043c8a7",
   "metadata": {},
   "outputs": [
    {
     "name": "stdout",
     "output_type": "stream",
     "text": [
      "Empty DataFrame\n",
      "Columns: [InventoryId, Store, City, Brand, Description, Size, onHand, Price, startDate]\n",
      "Index: []\n"
     ]
    }
   ],
   "source": [
    "# Display duplicate rows\n",
    "print(inventory_data[duplicate_rows])"
   ]
  },
  {
   "cell_type": "markdown",
   "id": "a3cda7a7",
   "metadata": {},
   "source": [
    "# 3. Handling Outliers:"
   ]
  },
  {
   "cell_type": "code",
   "execution_count": 15,
   "id": "a8a4b4fe",
   "metadata": {},
   "outputs": [
    {
     "data": {
      "image/png": "[encoded data removed]",
      "text/plain": [
       "<Figure size 720x432 with 1 Axes>"
      ]
     },
     "metadata": {
      "needs_background": "light"
     },
     "output_type": "display_data"
    }
   ],
   "source": [
    "# Use boxplots to visualize outliers\n",
    "plt.figure(figsize=(10, 6))\n",
    "sns.boxplot(x=inventory_data['Brand'])\n",
    "plt.title('Boxplot for Outlier Detection')\n",
    "plt.show()\n"
   ]
  },
  {
   "cell_type": "code",
   "execution_count": 16,
   "id": "a7dd6298",
   "metadata": {},
   "outputs": [
    {
     "data": {
      "image/png": "[encoded data removed]",
      "text/plain": [
       "<Figure size 720x432 with 1 Axes>"
      ]
     },
     "metadata": {
      "needs_background": "light"
     },
     "output_type": "display_data"
    }
   ],
   "source": [
    "# Use boxplots to visualize outliers\n",
    "plt.figure(figsize=(10, 6))\n",
    "sns.boxplot(x=inventory_data['Price'])\n",
    "plt.title('Boxplot for Outlier Detection')\n",
    "plt.show()\n"
   ]
  },
  {
   "cell_type": "code",
   "execution_count": 17,
   "id": "8d105df6",
   "metadata": {},
   "outputs": [
    {
     "data": {
      "image/png": "[encoded data removed]",
      "text/plain": [
       "<Figure size 720x432 with 1 Axes>"
      ]
     },
     "metadata": {
      "needs_background": "light"
     },
     "output_type": "display_data"
    }
   ],
   "source": [
    "# Use boxplots to visualize outliers\n",
    "plt.figure(figsize=(10, 6))\n",
    "sns.boxplot(x=inventory_data['onHand'])\n",
    "plt.title('Boxplot for Outlier Detection')\n",
    "plt.show()\n"
   ]
  },
  {
   "cell_type": "code",
   "execution_count": 18,
   "id": "881a0cd4",
   "metadata": {},
   "outputs": [
    {
     "data": {
      "image/png": "[encoded data removed]",
      "text/plain": [
       "<Figure size 720x432 with 1 Axes>"
      ]
     },
     "metadata": {
      "needs_background": "light"
     },
     "output_type": "display_data"
    }
   ],
   "source": [
    "# Use boxplots to visualize outliers\n",
    "plt.figure(figsize=(10, 6))\n",
    "sns.boxplot(x=inventory_data['Store'])\n",
    "plt.title('Boxplot for Outlier Detection')\n",
    "plt.show()\n"
   ]
  },
  {
   "cell_type": "markdown",
   "id": "e8f694e9",
   "metadata": {},
   "source": [
    "# Remove Outliers (using IQR):"
   ]
  },
  {
   "cell_type": "code",
   "execution_count": 19,
   "id": "68059c0a",
   "metadata": {},
   "outputs": [],
   "source": [
    "# Calculate the Interquartile Range (IQR)\n",
    "Q1 = inventory_data['Brand'].quantile(0.25)\n",
    "Q3 = inventory_data['Brand'].quantile(0.75)\n",
    "IQR = Q3 - Q1\n",
    "\n",
    "# Define upper and lower bounds\n",
    "lower_bound = Q1 - 1.5 * IQR\n",
    "upper_bound = Q3 + 1.5 * IQR"
   ]
  },
  {
   "cell_type": "code",
   "execution_count": 20,
   "id": "263f5269",
   "metadata": {},
   "outputs": [],
   "source": [
    "# Remove outliers\n",
    "inventory_data_no_outliers = inventory_data[(inventory_data['Brand'] >= lower_bound) & (inventory_data['Brand'] <= upper_bound)]\n"
   ]
  },
  {
   "cell_type": "code",
   "execution_count": 21,
   "id": "bebb08bf",
   "metadata": {},
   "outputs": [
    {
     "data": {
      "text/html": [
       "<div>\n",
       "<style scoped>\n",
       "    .dataframe tbody tr th:only-of-type {\n",
       "        vertical-align: middle;\n",
       "    }\n",
       "\n",
       "    .dataframe tbody tr th {\n",
       "        vertical-align: top;\n",
       "    }\n",
       "\n",
       "    .dataframe thead th {\n",
       "        text-align: right;\n",
       "    }\n",
       "</style>\n",
       "<table border=\"1\" class=\"dataframe\">\n",
       "  <thead>\n",
       "    <tr style=\"text-align: right;\">\n",
       "      <th></th>\n",
       "      <th>InventoryId</th>\n",
       "      <th>Store</th>\n",
       "      <th>City</th>\n",
       "      <th>Brand</th>\n",
       "      <th>Description</th>\n",
       "      <th>Size</th>\n",
       "      <th>onHand</th>\n",
       "      <th>Price</th>\n",
       "      <th>startDate</th>\n",
       "    </tr>\n",
       "  </thead>\n",
       "  <tbody>\n",
       "    <tr>\n",
       "      <th>0</th>\n",
       "      <td>1_HARDERSFIELD_58</td>\n",
       "      <td>1</td>\n",
       "      <td>HARDERSFIELD</td>\n",
       "      <td>58</td>\n",
       "      <td>Gekkeikan Black &amp; Gold Sake</td>\n",
       "      <td>750mL</td>\n",
       "      <td>8</td>\n",
       "      <td>12.99</td>\n",
       "      <td>2016-01-01</td>\n",
       "    </tr>\n",
       "    <tr>\n",
       "      <th>1</th>\n",
       "      <td>1_HARDERSFIELD_60</td>\n",
       "      <td>1</td>\n",
       "      <td>HARDERSFIELD</td>\n",
       "      <td>60</td>\n",
       "      <td>Canadian Club 1858 VAP</td>\n",
       "      <td>750mL</td>\n",
       "      <td>7</td>\n",
       "      <td>10.99</td>\n",
       "      <td>2016-01-01</td>\n",
       "    </tr>\n",
       "    <tr>\n",
       "      <th>2</th>\n",
       "      <td>1_HARDERSFIELD_62</td>\n",
       "      <td>1</td>\n",
       "      <td>HARDERSFIELD</td>\n",
       "      <td>62</td>\n",
       "      <td>Herradura Silver Tequila</td>\n",
       "      <td>750mL</td>\n",
       "      <td>6</td>\n",
       "      <td>36.99</td>\n",
       "      <td>2016-01-01</td>\n",
       "    </tr>\n",
       "    <tr>\n",
       "      <th>3</th>\n",
       "      <td>1_HARDERSFIELD_63</td>\n",
       "      <td>1</td>\n",
       "      <td>HARDERSFIELD</td>\n",
       "      <td>63</td>\n",
       "      <td>Herradura Reposado Tequila</td>\n",
       "      <td>750mL</td>\n",
       "      <td>3</td>\n",
       "      <td>38.99</td>\n",
       "      <td>2016-01-01</td>\n",
       "    </tr>\n",
       "    <tr>\n",
       "      <th>4</th>\n",
       "      <td>1_HARDERSFIELD_72</td>\n",
       "      <td>1</td>\n",
       "      <td>HARDERSFIELD</td>\n",
       "      <td>72</td>\n",
       "      <td>No. 3 London Dry Gin</td>\n",
       "      <td>750mL</td>\n",
       "      <td>6</td>\n",
       "      <td>34.99</td>\n",
       "      <td>2016-01-01</td>\n",
       "    </tr>\n",
       "    <tr>\n",
       "      <th>...</th>\n",
       "      <td>...</td>\n",
       "      <td>...</td>\n",
       "      <td>...</td>\n",
       "      <td>...</td>\n",
       "      <td>...</td>\n",
       "      <td>...</td>\n",
       "      <td>...</td>\n",
       "      <td>...</td>\n",
       "      <td>...</td>\n",
       "    </tr>\n",
       "    <tr>\n",
       "      <th>206522</th>\n",
       "      <td>79_BALLYMENA_46934</td>\n",
       "      <td>79</td>\n",
       "      <td>BALLYMENA</td>\n",
       "      <td>46934</td>\n",
       "      <td>Silver Palm Nth Cst Cab Svgn</td>\n",
       "      <td>750mL</td>\n",
       "      <td>30</td>\n",
       "      <td>14.95</td>\n",
       "      <td>2016-01-01</td>\n",
       "    </tr>\n",
       "    <tr>\n",
       "      <th>206523</th>\n",
       "      <td>79_BALLYMENA_46947</td>\n",
       "      <td>79</td>\n",
       "      <td>BALLYMENA</td>\n",
       "      <td>46947</td>\n",
       "      <td>Murphy-Goode Merlot Alexandr</td>\n",
       "      <td>750mL</td>\n",
       "      <td>21</td>\n",
       "      <td>12.99</td>\n",
       "      <td>2016-01-01</td>\n",
       "    </tr>\n",
       "    <tr>\n",
       "      <th>206524</th>\n",
       "      <td>79_BALLYMENA_46985</td>\n",
       "      <td>79</td>\n",
       "      <td>BALLYMENA</td>\n",
       "      <td>46985</td>\n",
       "      <td>Rodney Strong Cab Svgn Alexa</td>\n",
       "      <td>750mL</td>\n",
       "      <td>13</td>\n",
       "      <td>22.99</td>\n",
       "      <td>2016-01-01</td>\n",
       "    </tr>\n",
       "    <tr>\n",
       "      <th>206525</th>\n",
       "      <td>79_BALLYMENA_47014</td>\n",
       "      <td>79</td>\n",
       "      <td>BALLYMENA</td>\n",
       "      <td>47014</td>\n",
       "      <td>Juan Gil Jumilla Rd</td>\n",
       "      <td>750mL</td>\n",
       "      <td>13</td>\n",
       "      <td>13.99</td>\n",
       "      <td>2016-01-01</td>\n",
       "    </tr>\n",
       "    <tr>\n",
       "      <th>206526</th>\n",
       "      <td>79_BALLYMENA_47090</td>\n",
       "      <td>79</td>\n",
       "      <td>BALLYMENA</td>\n",
       "      <td>47090</td>\n",
       "      <td>Napa Cellars Cab Svgn Napa</td>\n",
       "      <td>750mL</td>\n",
       "      <td>19</td>\n",
       "      <td>23.99</td>\n",
       "      <td>2016-01-01</td>\n",
       "    </tr>\n",
       "  </tbody>\n",
       "</table>\n",
       "<p>206434 rows × 9 columns</p>\n",
       "</div>"
      ],
      "text/plain": [
       "               InventoryId  Store          City  Brand  \\\n",
       "0        1_HARDERSFIELD_58      1  HARDERSFIELD     58   \n",
       "1        1_HARDERSFIELD_60      1  HARDERSFIELD     60   \n",
       "2        1_HARDERSFIELD_62      1  HARDERSFIELD     62   \n",
       "3        1_HARDERSFIELD_63      1  HARDERSFIELD     63   \n",
       "4        1_HARDERSFIELD_72      1  HARDERSFIELD     72   \n",
       "...                    ...    ...           ...    ...   \n",
       "206522  79_BALLYMENA_46934     79     BALLYMENA  46934   \n",
       "206523  79_BALLYMENA_46947     79     BALLYMENA  46947   \n",
       "206524  79_BALLYMENA_46985     79     BALLYMENA  46985   \n",
       "206525  79_BALLYMENA_47014     79     BALLYMENA  47014   \n",
       "206526  79_BALLYMENA_47090     79     BALLYMENA  47090   \n",
       "\n",
       "                         Description   Size  onHand  Price   startDate  \n",
       "0        Gekkeikan Black & Gold Sake  750mL       8  12.99  2016-01-01  \n",
       "1             Canadian Club 1858 VAP  750mL       7  10.99  2016-01-01  \n",
       "2           Herradura Silver Tequila  750mL       6  36.99  2016-01-01  \n",
       "3         Herradura Reposado Tequila  750mL       3  38.99  2016-01-01  \n",
       "4               No. 3 London Dry Gin  750mL       6  34.99  2016-01-01  \n",
       "...                              ...    ...     ...    ...         ...  \n",
       "206522  Silver Palm Nth Cst Cab Svgn  750mL      30  14.95  2016-01-01  \n",
       "206523  Murphy-Goode Merlot Alexandr  750mL      21  12.99  2016-01-01  \n",
       "206524  Rodney Strong Cab Svgn Alexa  750mL      13  22.99  2016-01-01  \n",
       "206525           Juan Gil Jumilla Rd  750mL      13  13.99  2016-01-01  \n",
       "206526    Napa Cellars Cab Svgn Napa  750mL      19  23.99  2016-01-01  \n",
       "\n",
       "[206434 rows x 9 columns]"
      ]
     },
     "execution_count": 21,
     "metadata": {},
     "output_type": "execute_result"
    }
   ],
   "source": [
    "inventory_data_no_outliers"
   ]
  },
  {
   "cell_type": "code",
   "execution_count": 22,
   "id": "1702a018",
   "metadata": {
    "scrolled": false
   },
   "outputs": [
    {
     "data": {
      "image/png": "[encoded data removed]",
      "text/plain": [
       "<Figure size 720x432 with 1 Axes>"
      ]
     },
     "metadata": {
      "needs_background": "light"
     },
     "output_type": "display_data"
    }
   ],
   "source": [
    "# Use boxplots to visualize outliers\n",
    "plt.figure(figsize=(10, 6))\n",
    "sns.boxplot(x=inventory_data_no_outliers['Brand'])\n",
    "plt.title('Boxplot for Outlier Detection')\n",
    "plt.show()"
   ]
  },
  {
   "cell_type": "code",
   "execution_count": 23,
   "id": "9a8b1ca8",
   "metadata": {},
   "outputs": [],
   "source": [
    "# Calculate the Interquartile Range (IQR)\n",
    "Q4 = inventory_data['Price'].quantile(0.25)\n",
    "Q5 = inventory_data['Price'].quantile(0.75)\n",
    "IQR = Q5 - Q4\n",
    "\n",
    "# Define upper and lower bounds\n",
    "lower_bound = Q4 - 1.5 * IQR\n",
    "upper_bound = Q5 + 1.5 * IQR"
   ]
  },
  {
   "cell_type": "code",
   "execution_count": 24,
   "id": "484a0feb",
   "metadata": {},
   "outputs": [],
   "source": [
    "# Remove outliers\n",
    "inventory_data_no_outliers_price = inventory_data[(inventory_data['Price'] >= lower_bound) & (inventory_data['Price'] <= upper_bound)]\n"
   ]
  },
  {
   "cell_type": "code",
   "execution_count": 25,
   "id": "c2f386c2",
   "metadata": {},
   "outputs": [
    {
     "data": {
      "image/png": "[encoded data removed]",
      "text/plain": [
       "<Figure size 720x432 with 1 Axes>"
      ]
     },
     "metadata": {
      "needs_background": "light"
     },
     "output_type": "display_data"
    }
   ],
   "source": [
    "# Use boxplots to visualize outliers\n",
    "plt.figure(figsize=(10, 6))\n",
    "sns.boxplot(x=inventory_data_no_outliers_price['Price'])\n",
    "plt.title('Boxplot for Outlier Detection')\n",
    "plt.show()"
   ]
  },
  {
   "cell_type": "code",
   "execution_count": 26,
   "id": "ebe3ad4e",
   "metadata": {},
   "outputs": [],
   "source": [
    "# Calculate the Interquartile Range (IQR)\n",
    "Q6 = inventory_data['onHand'].quantile(0.25)\n",
    "Q7 = inventory_data['onHand'].quantile(0.75)\n",
    "IQR = Q7 - Q6\n",
    "\n",
    "# Define upper and lower bounds\n",
    "lower_bound = Q6 - 1.5 * IQR\n",
    "upper_bound = Q7 + 1.5 * IQR"
   ]
  },
  {
   "cell_type": "code",
   "execution_count": 27,
   "id": "637ca01c",
   "metadata": {},
   "outputs": [],
   "source": [
    "# Remove outliers\n",
    "inventory_data_no_outliers_onHand = inventory_data[(inventory_data['onHand'] >= lower_bound) & (inventory_data['onHand'] <= upper_bound)]\n"
   ]
  },
  {
   "cell_type": "code",
   "execution_count": 28,
   "id": "cc3d4097",
   "metadata": {},
   "outputs": [
    {
     "data": {
      "image/png": "[encoded data removed]",
      "text/plain": [
       "<Figure size 720x432 with 1 Axes>"
      ]
     },
     "metadata": {
      "needs_background": "light"
     },
     "output_type": "display_data"
    }
   ],
   "source": [
    "# Use boxplots to visualize outliers\n",
    "plt.figure(figsize=(10, 6))\n",
    "sns.boxplot(x=inventory_data_no_outliers_onHand['onHand'])\n",
    "plt.title('Boxplot for Outlier Detection')\n",
    "plt.show()"
   ]
  },
  {
   "cell_type": "code",
   "execution_count": 29,
   "id": "0ea36ae2",
   "metadata": {},
   "outputs": [],
   "source": [
    "# Calculate the Interquartile Range (IQR)\n",
    "Q8 = inventory_data['Store'].quantile(0.25)\n",
    "Q9 = inventory_data['Store'].quantile(0.75)\n",
    "IQR = Q9 - Q8\n",
    "\n",
    "# Define upper and lower bounds\n",
    "lower_bound = Q8 - 1.5 * IQR\n",
    "upper_bound = Q9 + 1.5 * IQR"
   ]
  },
  {
   "cell_type": "code",
   "execution_count": 30,
   "id": "9b8fa976",
   "metadata": {},
   "outputs": [],
   "source": [
    "# Remove outliers\n",
    "inventory_data_no_outliers_Store = inventory_data[(inventory_data['Store'] >= lower_bound) & (inventory_data['Store'] <= upper_bound)]\n"
   ]
  },
  {
   "cell_type": "code",
   "execution_count": 31,
   "id": "716f4b15",
   "metadata": {},
   "outputs": [
    {
     "data": {
      "image/png": "[encoded data removed]",
      "text/plain": [
       "<Figure size 720x432 with 1 Axes>"
      ]
     },
     "metadata": {
      "needs_background": "light"
     },
     "output_type": "display_data"
    }
   ],
   "source": [
    "# Use boxplots to visualize outliers\n",
    "plt.figure(figsize=(10, 6))\n",
    "sns.boxplot(x=inventory_data_no_outliers_Store['Store'])\n",
    "plt.title('Boxplot for Outlier Detection')\n",
    "plt.show()"
   ]
  },
  {
   "cell_type": "markdown",
   "id": "fd3b153d",
   "metadata": {},
   "source": [
    "# Further Data Analysis and Visualization"
   ]
  },
  {
   "cell_type": "code",
   "execution_count": 53,
   "id": "fe2d53b1",
   "metadata": {},
   "outputs": [
    {
     "data": {
      "image/png": "[encoded data removed]",
      "text/plain": [
       "<Figure size 1440x432 with 1 Axes>"
      ]
     },
     "metadata": {
      "needs_background": "light"
     },
     "output_type": "display_data"
    }
   ],
   "source": [
    "# Visualize the distribution of inventory levels\n",
    "plt.figure(figsize=(20, 6))\n",
    "sns.histplot(inventory_data['InventoryId'].sample(50), kde=True)  # Adjust the sample size as needed\n",
    "plt.title('Inventory Distribution')\n",
    "plt.show()\n"
   ]
  },
  {
   "cell_type": "markdown",
   "id": "297ec9e1",
   "metadata": {},
   "source": [
    "# 1. Inventory Overview"
   ]
  },
  {
   "cell_type": "code",
   "execution_count": 55,
   "id": "e5f02335",
   "metadata": {},
   "outputs": [
    {
     "data": {
      "image/png": "[encoded data removed]",
      "text/plain": [
       "<Figure size 1440x432 with 1 Axes>"
      ]
     },
     "metadata": {
      "needs_background": "light"
     },
     "output_type": "display_data"
    }
   ],
   "source": [
    "# Distribution of inventory across stores\n",
    "plt.figure(figsize=(20, 6))\n",
    "sns.countplot(x='Store', data=inventory_data)\n",
    "plt.title('Inventory Distribution Across Stores')\n",
    "plt.show()\n",
    "\n"
   ]
  },
  {
   "cell_type": "code",
   "execution_count": 56,
   "id": "5e473fc3",
   "metadata": {},
   "outputs": [
    {
     "data": {
      "text/html": [
       "<div>\n",
       "<style scoped>\n",
       "    .dataframe tbody tr th:only-of-type {\n",
       "        vertical-align: middle;\n",
       "    }\n",
       "\n",
       "    .dataframe tbody tr th {\n",
       "        vertical-align: top;\n",
       "    }\n",
       "\n",
       "    .dataframe thead th {\n",
       "        text-align: right;\n",
       "    }\n",
       "</style>\n",
       "<table border=\"1\" class=\"dataframe\">\n",
       "  <thead>\n",
       "    <tr style=\"text-align: right;\">\n",
       "      <th></th>\n",
       "      <th>onHand</th>\n",
       "      <th>Price</th>\n",
       "    </tr>\n",
       "  </thead>\n",
       "  <tbody>\n",
       "    <tr>\n",
       "      <th>count</th>\n",
       "      <td>206529.000000</td>\n",
       "      <td>206529.000000</td>\n",
       "    </tr>\n",
       "    <tr>\n",
       "      <th>mean</th>\n",
       "      <td>20.429455</td>\n",
       "      <td>22.253910</td>\n",
       "    </tr>\n",
       "    <tr>\n",
       "      <th>std</th>\n",
       "      <td>31.467342</td>\n",
       "      <td>70.178964</td>\n",
       "    </tr>\n",
       "    <tr>\n",
       "      <th>min</th>\n",
       "      <td>0.000000</td>\n",
       "      <td>0.000000</td>\n",
       "    </tr>\n",
       "    <tr>\n",
       "      <th>25%</th>\n",
       "      <td>7.000000</td>\n",
       "      <td>9.990000</td>\n",
       "    </tr>\n",
       "    <tr>\n",
       "      <th>50%</th>\n",
       "      <td>12.000000</td>\n",
       "      <td>14.990000</td>\n",
       "    </tr>\n",
       "    <tr>\n",
       "      <th>75%</th>\n",
       "      <td>21.000000</td>\n",
       "      <td>21.990000</td>\n",
       "    </tr>\n",
       "    <tr>\n",
       "      <th>max</th>\n",
       "      <td>1251.000000</td>\n",
       "      <td>13999.900000</td>\n",
       "    </tr>\n",
       "  </tbody>\n",
       "</table>\n",
       "</div>"
      ],
      "text/plain": [
       "              onHand          Price\n",
       "count  206529.000000  206529.000000\n",
       "mean       20.429455      22.253910\n",
       "std        31.467342      70.178964\n",
       "min         0.000000       0.000000\n",
       "25%         7.000000       9.990000\n",
       "50%        12.000000      14.990000\n",
       "75%        21.000000      21.990000\n",
       "max      1251.000000   13999.900000"
      ]
     },
     "execution_count": 56,
     "metadata": {},
     "output_type": "execute_result"
    }
   ],
   "source": [
    "\n",
    "# Summary statistics for key variables\n",
    "inventory_data[['onHand', 'Price']].describe()"
   ]
  },
  {
   "cell_type": "markdown",
   "id": "44f8d979",
   "metadata": {},
   "source": [
    "# 2. Store Analysis:"
   ]
  },
  {
   "cell_type": "code",
   "execution_count": 58,
   "id": "ce9ba7f5",
   "metadata": {},
   "outputs": [
    {
     "data": {
      "image/png": "[encoded data removed]",
      "text/plain": [
       "<Figure size 1440x432 with 1 Axes>"
      ]
     },
     "metadata": {
      "needs_background": "light"
     },
     "output_type": "display_data"
    }
   ],
   "source": [
    "# Analyze onHand quantity variations across stores\n",
    "plt.figure(figsize=(20,6))\n",
    "sns.barplot(x='Store', y='onHand', data=inventory_data, ci=None)\n",
    "plt.title('Average onHand Quantity Across Stores')\n",
    "plt.show()\n"
   ]
  },
  {
   "cell_type": "markdown",
   "id": "c46e25e0",
   "metadata": {},
   "source": [
    "# 3. Brand Analysis:"
   ]
  },
  {
   "cell_type": "code",
   "execution_count": 60,
   "id": "f0e243f1",
   "metadata": {},
   "outputs": [
    {
     "data": {
      "image/png": "[encoded data removed]",
      "text/plain": [
       "<Figure size 1440x432 with 1 Axes>"
      ]
     },
     "metadata": {
      "needs_background": "light"
     },
     "output_type": "display_data"
    }
   ],
   "source": [
    "# Distribution of inventory across brands\n",
    "plt.figure(figsize=(20,6))\n",
    "sns.countplot(x='Brand', data=inventory_data)\n",
    "plt.title('Inventory Distribution Across Brands')\n",
    "plt.show()"
   ]
  },
  {
   "cell_type": "code",
   "execution_count": 62,
   "id": "a395221c",
   "metadata": {},
   "outputs": [],
   "source": [
    "# Average price and onHand quantity for each brand\n",
    "brand_stats = inventory_data.groupby('Brand').agg({'Price': 'mean', 'onHand': 'mean'})"
   ]
  },
  {
   "cell_type": "code",
   "execution_count": 63,
   "id": "354ef440",
   "metadata": {},
   "outputs": [
    {
     "data": {
      "text/html": [
       "<div>\n",
       "<style scoped>\n",
       "    .dataframe tbody tr th:only-of-type {\n",
       "        vertical-align: middle;\n",
       "    }\n",
       "\n",
       "    .dataframe tbody tr th {\n",
       "        vertical-align: top;\n",
       "    }\n",
       "\n",
       "    .dataframe thead th {\n",
       "        text-align: right;\n",
       "    }\n",
       "</style>\n",
       "<table border=\"1\" class=\"dataframe\">\n",
       "  <thead>\n",
       "    <tr style=\"text-align: right;\">\n",
       "      <th></th>\n",
       "      <th>Price</th>\n",
       "      <th>onHand</th>\n",
       "    </tr>\n",
       "    <tr>\n",
       "      <th>Brand</th>\n",
       "      <th></th>\n",
       "      <th></th>\n",
       "    </tr>\n",
       "  </thead>\n",
       "  <tbody>\n",
       "    <tr>\n",
       "      <th>58</th>\n",
       "      <td>12.99</td>\n",
       "      <td>8.028571</td>\n",
       "    </tr>\n",
       "    <tr>\n",
       "      <th>60</th>\n",
       "      <td>10.99</td>\n",
       "      <td>5.538462</td>\n",
       "    </tr>\n",
       "    <tr>\n",
       "      <th>61</th>\n",
       "      <td>13.99</td>\n",
       "      <td>12.000000</td>\n",
       "    </tr>\n",
       "    <tr>\n",
       "      <th>62</th>\n",
       "      <td>36.99</td>\n",
       "      <td>5.333333</td>\n",
       "    </tr>\n",
       "    <tr>\n",
       "      <th>63</th>\n",
       "      <td>38.99</td>\n",
       "      <td>5.367647</td>\n",
       "    </tr>\n",
       "    <tr>\n",
       "      <th>...</th>\n",
       "      <td>...</td>\n",
       "      <td>...</td>\n",
       "    </tr>\n",
       "    <tr>\n",
       "      <th>90086</th>\n",
       "      <td>51.99</td>\n",
       "      <td>9.666667</td>\n",
       "    </tr>\n",
       "    <tr>\n",
       "      <th>90087</th>\n",
       "      <td>469.99</td>\n",
       "      <td>8.250000</td>\n",
       "    </tr>\n",
       "    <tr>\n",
       "      <th>90088</th>\n",
       "      <td>134.99</td>\n",
       "      <td>11.400000</td>\n",
       "    </tr>\n",
       "    <tr>\n",
       "      <th>90089</th>\n",
       "      <td>119.99</td>\n",
       "      <td>27.888889</td>\n",
       "    </tr>\n",
       "    <tr>\n",
       "      <th>90090</th>\n",
       "      <td>649.99</td>\n",
       "      <td>10.200000</td>\n",
       "    </tr>\n",
       "  </tbody>\n",
       "</table>\n",
       "<p>8094 rows × 2 columns</p>\n",
       "</div>"
      ],
      "text/plain": [
       "        Price     onHand\n",
       "Brand                   \n",
       "58      12.99   8.028571\n",
       "60      10.99   5.538462\n",
       "61      13.99  12.000000\n",
       "62      36.99   5.333333\n",
       "63      38.99   5.367647\n",
       "...       ...        ...\n",
       "90086   51.99   9.666667\n",
       "90087  469.99   8.250000\n",
       "90088  134.99  11.400000\n",
       "90089  119.99  27.888889\n",
       "90090  649.99  10.200000\n",
       "\n",
       "[8094 rows x 2 columns]"
      ]
     },
     "execution_count": 63,
     "metadata": {},
     "output_type": "execute_result"
    }
   ],
   "source": [
    "brand_stats"
   ]
  },
  {
   "cell_type": "markdown",
   "id": "b1bdc8aa",
   "metadata": {},
   "source": [
    "# 4. Size Analysis"
   ]
  },
  {
   "cell_type": "code",
   "execution_count": 67,
   "id": "0e254648",
   "metadata": {},
   "outputs": [
    {
     "data": {
      "image/png": "[encoded data removed]",
      "text/plain": [
       "<Figure size 720x432 with 1 Axes>"
      ]
     },
     "metadata": {
      "needs_background": "light"
     },
     "output_type": "display_data"
    }
   ],
   "source": [
    "# Distribution of inventory across sizes\n",
    "plt.figure(figsize=(10,6))\n",
    "sns.countplot(x='Size', data=inventory_data)\n",
    "plt.title('Inventory Distribution Across Sizes')\n",
    "plt.show()"
   ]
  },
  {
   "cell_type": "code",
   "execution_count": 68,
   "id": "1afd5275",
   "metadata": {},
   "outputs": [
    {
     "data": {
      "image/png": "[encoded data removed]",
      "text/plain": [
       "<Figure size 720x432 with 1 Axes>"
      ]
     },
     "metadata": {
      "needs_background": "light"
     },
     "output_type": "display_data"
    }
   ],
   "source": [
    "# Relationship between size and onHand quantity or price\n",
    "plt.figure(figsize=(10,6))\n",
    "sns.scatterplot(x='Size', y='onHand', data=inventory_data)\n",
    "plt.title('Size vs onHand Quantity')\n",
    "plt.show()\n"
   ]
  },
  {
   "cell_type": "markdown",
   "id": "05b30f57",
   "metadata": {},
   "source": [
    "# 5. Pricing Strategy"
   ]
  },
  {
   "cell_type": "code",
   "execution_count": 70,
   "id": "a843d09f",
   "metadata": {},
   "outputs": [
    {
     "data": {
      "image/png": "[encoded data removed]",
      "text/plain": [
       "<Figure size 1440x432 with 1 Axes>"
      ]
     },
     "metadata": {
      "needs_background": "light"
     },
     "output_type": "display_data"
    }
   ],
   "source": [
    "# Relationship between price and onHand quantity\n",
    "plt.figure(figsize=(20,6))\n",
    "sns.scatterplot(x='Price', y='onHand', data=inventory_data)\n",
    "plt.title('Price vs onHand Quantity')\n",
    "plt.show()\n"
   ]
  },
  {
   "cell_type": "code",
   "execution_count": 71,
   "id": "8bf0f0c1",
   "metadata": {},
   "outputs": [
    {
     "data": {
      "text/plain": [
       "-0.056659563187862874"
      ]
     },
     "execution_count": 71,
     "metadata": {},
     "output_type": "execute_result"
    }
   ],
   "source": [
    "# Correlation between price changes and sales\n",
    "inventory_data['Price'].corr(inventory_data['onHand'])"
   ]
  },
  {
   "cell_type": "markdown",
   "id": "b406b84a",
   "metadata": {},
   "source": [
    "# 6. Stockouts and Surpluses"
   ]
  },
  {
   "cell_type": "code",
   "execution_count": 72,
   "id": "f1dc9519",
   "metadata": {},
   "outputs": [],
   "source": [
    "# Identify instances of stockouts\n",
    "stockouts = inventory_data[inventory_data['onHand'] == 0]\n"
   ]
  },
  {
   "cell_type": "code",
   "execution_count": 73,
   "id": "37215bdb",
   "metadata": {},
   "outputs": [
    {
     "data": {
      "text/html": [
       "<div>\n",
       "<style scoped>\n",
       "    .dataframe tbody tr th:only-of-type {\n",
       "        vertical-align: middle;\n",
       "    }\n",
       "\n",
       "    .dataframe tbody tr th {\n",
       "        vertical-align: top;\n",
       "    }\n",
       "\n",
       "    .dataframe thead th {\n",
       "        text-align: right;\n",
       "    }\n",
       "</style>\n",
       "<table border=\"1\" class=\"dataframe\">\n",
       "  <thead>\n",
       "    <tr style=\"text-align: right;\">\n",
       "      <th></th>\n",
       "      <th>InventoryId</th>\n",
       "      <th>Store</th>\n",
       "      <th>City</th>\n",
       "      <th>Brand</th>\n",
       "      <th>Description</th>\n",
       "      <th>Size</th>\n",
       "      <th>onHand</th>\n",
       "      <th>Price</th>\n",
       "      <th>startDate</th>\n",
       "    </tr>\n",
       "  </thead>\n",
       "  <tbody>\n",
       "    <tr>\n",
       "      <th>11</th>\n",
       "      <td>1_HARDERSFIELD_165</td>\n",
       "      <td>1</td>\n",
       "      <td>HARDERSFIELD</td>\n",
       "      <td>165</td>\n",
       "      <td>Gentleman Jack Gift Pack</td>\n",
       "      <td>750mL</td>\n",
       "      <td>0</td>\n",
       "      <td>26.99</td>\n",
       "      <td>2016-01-01</td>\n",
       "    </tr>\n",
       "    <tr>\n",
       "      <th>26</th>\n",
       "      <td>1_HARDERSFIELD_305</td>\n",
       "      <td>1</td>\n",
       "      <td>HARDERSFIELD</td>\n",
       "      <td>305</td>\n",
       "      <td>Crown Royal Canadian Whisky</td>\n",
       "      <td>Liter</td>\n",
       "      <td>0</td>\n",
       "      <td>27.99</td>\n",
       "      <td>2016-01-01</td>\n",
       "    </tr>\n",
       "    <tr>\n",
       "      <th>30</th>\n",
       "      <td>1_HARDERSFIELD_356</td>\n",
       "      <td>1</td>\n",
       "      <td>HARDERSFIELD</td>\n",
       "      <td>356</td>\n",
       "      <td>Carolans Irish Cr Gift Set</td>\n",
       "      <td>750mL</td>\n",
       "      <td>0</td>\n",
       "      <td>11.49</td>\n",
       "      <td>2016-01-01</td>\n",
       "    </tr>\n",
       "    <tr>\n",
       "      <th>48</th>\n",
       "      <td>1_HARDERSFIELD_482</td>\n",
       "      <td>1</td>\n",
       "      <td>HARDERSFIELD</td>\n",
       "      <td>482</td>\n",
       "      <td>Absolut 80 Proof</td>\n",
       "      <td>Liter</td>\n",
       "      <td>0</td>\n",
       "      <td>19.99</td>\n",
       "      <td>2016-01-01</td>\n",
       "    </tr>\n",
       "    <tr>\n",
       "      <th>52</th>\n",
       "      <td>1_HARDERSFIELD_513</td>\n",
       "      <td>1</td>\n",
       "      <td>HARDERSFIELD</td>\n",
       "      <td>513</td>\n",
       "      <td>Ocean Vodka</td>\n",
       "      <td>750mL</td>\n",
       "      <td>0</td>\n",
       "      <td>28.99</td>\n",
       "      <td>2016-01-01</td>\n",
       "    </tr>\n",
       "    <tr>\n",
       "      <th>...</th>\n",
       "      <td>...</td>\n",
       "      <td>...</td>\n",
       "      <td>...</td>\n",
       "      <td>...</td>\n",
       "      <td>...</td>\n",
       "      <td>...</td>\n",
       "      <td>...</td>\n",
       "      <td>...</td>\n",
       "      <td>...</td>\n",
       "    </tr>\n",
       "    <tr>\n",
       "      <th>206274</th>\n",
       "      <td>79_BALLYMENA_39479</td>\n",
       "      <td>79</td>\n",
       "      <td>BALLYMENA</td>\n",
       "      <td>39479</td>\n",
       "      <td>Barefoot Premium X-Dry</td>\n",
       "      <td>750mL</td>\n",
       "      <td>0</td>\n",
       "      <td>7.99</td>\n",
       "      <td>2016-01-01</td>\n",
       "    </tr>\n",
       "    <tr>\n",
       "      <th>206343</th>\n",
       "      <td>79_BALLYMENA_41612</td>\n",
       "      <td>79</td>\n",
       "      <td>BALLYMENA</td>\n",
       "      <td>41612</td>\n",
       "      <td>Ridge Geyserville Znfdl</td>\n",
       "      <td>750mL</td>\n",
       "      <td>0</td>\n",
       "      <td>36.99</td>\n",
       "      <td>2016-01-01</td>\n",
       "    </tr>\n",
       "    <tr>\n",
       "      <th>206365</th>\n",
       "      <td>79_BALLYMENA_42350</td>\n",
       "      <td>79</td>\n",
       "      <td>BALLYMENA</td>\n",
       "      <td>42350</td>\n",
       "      <td>Black Box Shiraz Cntrl Coast</td>\n",
       "      <td>3L</td>\n",
       "      <td>0</td>\n",
       "      <td>18.99</td>\n",
       "      <td>2016-01-01</td>\n",
       "    </tr>\n",
       "    <tr>\n",
       "      <th>206422</th>\n",
       "      <td>79_BALLYMENA_43922</td>\n",
       "      <td>79</td>\n",
       "      <td>BALLYMENA</td>\n",
       "      <td>43922</td>\n",
       "      <td>Farnum Hill Farmhouse Cider</td>\n",
       "      <td>750mL</td>\n",
       "      <td>0</td>\n",
       "      <td>8.99</td>\n",
       "      <td>2016-01-01</td>\n",
       "    </tr>\n",
       "    <tr>\n",
       "      <th>206467</th>\n",
       "      <td>79_BALLYMENA_45266</td>\n",
       "      <td>79</td>\n",
       "      <td>BALLYMENA</td>\n",
       "      <td>45266</td>\n",
       "      <td>XYZin Old Vines Znfdl</td>\n",
       "      <td>750mL</td>\n",
       "      <td>0</td>\n",
       "      <td>9.99</td>\n",
       "      <td>2016-01-01</td>\n",
       "    </tr>\n",
       "  </tbody>\n",
       "</table>\n",
       "<p>6044 rows × 9 columns</p>\n",
       "</div>"
      ],
      "text/plain": [
       "               InventoryId  Store          City  Brand  \\\n",
       "11      1_HARDERSFIELD_165      1  HARDERSFIELD    165   \n",
       "26      1_HARDERSFIELD_305      1  HARDERSFIELD    305   \n",
       "30      1_HARDERSFIELD_356      1  HARDERSFIELD    356   \n",
       "48      1_HARDERSFIELD_482      1  HARDERSFIELD    482   \n",
       "52      1_HARDERSFIELD_513      1  HARDERSFIELD    513   \n",
       "...                    ...    ...           ...    ...   \n",
       "206274  79_BALLYMENA_39479     79     BALLYMENA  39479   \n",
       "206343  79_BALLYMENA_41612     79     BALLYMENA  41612   \n",
       "206365  79_BALLYMENA_42350     79     BALLYMENA  42350   \n",
       "206422  79_BALLYMENA_43922     79     BALLYMENA  43922   \n",
       "206467  79_BALLYMENA_45266     79     BALLYMENA  45266   \n",
       "\n",
       "                         Description   Size  onHand  Price   startDate  \n",
       "11          Gentleman Jack Gift Pack  750mL       0  26.99  2016-01-01  \n",
       "26       Crown Royal Canadian Whisky  Liter       0  27.99  2016-01-01  \n",
       "30        Carolans Irish Cr Gift Set  750mL       0  11.49  2016-01-01  \n",
       "48                  Absolut 80 Proof  Liter       0  19.99  2016-01-01  \n",
       "52                       Ocean Vodka  750mL       0  28.99  2016-01-01  \n",
       "...                              ...    ...     ...    ...         ...  \n",
       "206274        Barefoot Premium X-Dry  750mL       0   7.99  2016-01-01  \n",
       "206343       Ridge Geyserville Znfdl  750mL       0  36.99  2016-01-01  \n",
       "206365  Black Box Shiraz Cntrl Coast     3L       0  18.99  2016-01-01  \n",
       "206422   Farnum Hill Farmhouse Cider  750mL       0   8.99  2016-01-01  \n",
       "206467         XYZin Old Vines Znfdl  750mL       0   9.99  2016-01-01  \n",
       "\n",
       "[6044 rows x 9 columns]"
      ]
     },
     "execution_count": 73,
     "metadata": {},
     "output_type": "execute_result"
    }
   ],
   "source": [
    "stockouts"
   ]
  },
  {
   "cell_type": "code",
   "execution_count": 79,
   "id": "5fb69a89",
   "metadata": {},
   "outputs": [],
   "source": [
    "# Identify instances of surpluses\n",
    "surpluses = inventory_data[inventory_data['onHand'] > 500]"
   ]
  },
  {
   "cell_type": "code",
   "execution_count": 80,
   "id": "221cf5d3",
   "metadata": {},
   "outputs": [
    {
     "data": {
      "text/html": [
       "<div>\n",
       "<style scoped>\n",
       "    .dataframe tbody tr th:only-of-type {\n",
       "        vertical-align: middle;\n",
       "    }\n",
       "\n",
       "    .dataframe tbody tr th {\n",
       "        vertical-align: top;\n",
       "    }\n",
       "\n",
       "    .dataframe thead th {\n",
       "        text-align: right;\n",
       "    }\n",
       "</style>\n",
       "<table border=\"1\" class=\"dataframe\">\n",
       "  <thead>\n",
       "    <tr style=\"text-align: right;\">\n",
       "      <th></th>\n",
       "      <th>InventoryId</th>\n",
       "      <th>Store</th>\n",
       "      <th>City</th>\n",
       "      <th>Brand</th>\n",
       "      <th>Description</th>\n",
       "      <th>Size</th>\n",
       "      <th>onHand</th>\n",
       "      <th>Price</th>\n",
       "      <th>startDate</th>\n",
       "    </tr>\n",
       "  </thead>\n",
       "  <tbody>\n",
       "    <tr>\n",
       "      <th>45031</th>\n",
       "      <td>20_BREDWARDINE_3607</td>\n",
       "      <td>20</td>\n",
       "      <td>BREDWARDINE</td>\n",
       "      <td>3607</td>\n",
       "      <td>Smirnoff Citrus Vodka</td>\n",
       "      <td>50mL</td>\n",
       "      <td>547</td>\n",
       "      <td>0.99</td>\n",
       "      <td>2016-01-01</td>\n",
       "    </tr>\n",
       "    <tr>\n",
       "      <th>74815</th>\n",
       "      <td>33_HORNSEY_1892</td>\n",
       "      <td>33</td>\n",
       "      <td>HORNSEY</td>\n",
       "      <td>1892</td>\n",
       "      <td>Yukon Jack</td>\n",
       "      <td>50mL</td>\n",
       "      <td>714</td>\n",
       "      <td>0.99</td>\n",
       "      <td>2016-01-01</td>\n",
       "    </tr>\n",
       "    <tr>\n",
       "      <th>75125</th>\n",
       "      <td>33_HORNSEY_3012</td>\n",
       "      <td>33</td>\n",
       "      <td>HORNSEY</td>\n",
       "      <td>3012</td>\n",
       "      <td>Pinnacle Vodka</td>\n",
       "      <td>50mL</td>\n",
       "      <td>558</td>\n",
       "      <td>0.99</td>\n",
       "      <td>2016-01-01</td>\n",
       "    </tr>\n",
       "    <tr>\n",
       "      <th>75294</th>\n",
       "      <td>33_HORNSEY_3547</td>\n",
       "      <td>33</td>\n",
       "      <td>HORNSEY</td>\n",
       "      <td>3547</td>\n",
       "      <td>Ketel One Vodka</td>\n",
       "      <td>50mL</td>\n",
       "      <td>506</td>\n",
       "      <td>2.79</td>\n",
       "      <td>2016-01-01</td>\n",
       "    </tr>\n",
       "    <tr>\n",
       "      <th>76184</th>\n",
       "      <td>33_HORNSEY_8130</td>\n",
       "      <td>33</td>\n",
       "      <td>HORNSEY</td>\n",
       "      <td>8130</td>\n",
       "      <td>Bacardi Superior Rum</td>\n",
       "      <td>50mL</td>\n",
       "      <td>507</td>\n",
       "      <td>1.29</td>\n",
       "      <td>2016-01-01</td>\n",
       "    </tr>\n",
       "    <tr>\n",
       "      <th>...</th>\n",
       "      <td>...</td>\n",
       "      <td>...</td>\n",
       "      <td>...</td>\n",
       "      <td>...</td>\n",
       "      <td>...</td>\n",
       "      <td>...</td>\n",
       "      <td>...</td>\n",
       "      <td>...</td>\n",
       "      <td>...</td>\n",
       "    </tr>\n",
       "    <tr>\n",
       "      <th>195581</th>\n",
       "      <td>76_DONCASTER_3876</td>\n",
       "      <td>76</td>\n",
       "      <td>DONCASTER</td>\n",
       "      <td>3876</td>\n",
       "      <td>Smirnoff 80 Proof</td>\n",
       "      <td>1.75L</td>\n",
       "      <td>541</td>\n",
       "      <td>17.99</td>\n",
       "      <td>2016-01-01</td>\n",
       "    </tr>\n",
       "    <tr>\n",
       "      <th>195721</th>\n",
       "      <td>76_DONCASTER_4261</td>\n",
       "      <td>76</td>\n",
       "      <td>DONCASTER</td>\n",
       "      <td>4261</td>\n",
       "      <td>Capt Morgan Spiced Rum</td>\n",
       "      <td>1.75L</td>\n",
       "      <td>639</td>\n",
       "      <td>21.99</td>\n",
       "      <td>2016-01-01</td>\n",
       "    </tr>\n",
       "    <tr>\n",
       "      <th>196223</th>\n",
       "      <td>76_DONCASTER_6570</td>\n",
       "      <td>76</td>\n",
       "      <td>DONCASTER</td>\n",
       "      <td>6570</td>\n",
       "      <td>Kendall Jackson Chard Vt RSV</td>\n",
       "      <td>750mL</td>\n",
       "      <td>621</td>\n",
       "      <td>9.95</td>\n",
       "      <td>2016-01-01</td>\n",
       "    </tr>\n",
       "    <tr>\n",
       "      <th>196395</th>\n",
       "      <td>76_DONCASTER_8068</td>\n",
       "      <td>76</td>\n",
       "      <td>DONCASTER</td>\n",
       "      <td>8068</td>\n",
       "      <td>Absolut 80 Proof</td>\n",
       "      <td>1.75L</td>\n",
       "      <td>789</td>\n",
       "      <td>24.99</td>\n",
       "      <td>2016-01-01</td>\n",
       "    </tr>\n",
       "    <tr>\n",
       "      <th>204102</th>\n",
       "      <td>79_BALLYMENA_3859</td>\n",
       "      <td>79</td>\n",
       "      <td>BALLYMENA</td>\n",
       "      <td>3859</td>\n",
       "      <td>Smirnoff 80 Proof</td>\n",
       "      <td>375mL</td>\n",
       "      <td>1163</td>\n",
       "      <td>8.99</td>\n",
       "      <td>2016-01-01</td>\n",
       "    </tr>\n",
       "  </tbody>\n",
       "</table>\n",
       "<p>68 rows × 9 columns</p>\n",
       "</div>"
      ],
      "text/plain": [
       "                InventoryId  Store         City  Brand  \\\n",
       "45031   20_BREDWARDINE_3607     20  BREDWARDINE   3607   \n",
       "74815       33_HORNSEY_1892     33      HORNSEY   1892   \n",
       "75125       33_HORNSEY_3012     33      HORNSEY   3012   \n",
       "75294       33_HORNSEY_3547     33      HORNSEY   3547   \n",
       "76184       33_HORNSEY_8130     33      HORNSEY   8130   \n",
       "...                     ...    ...          ...    ...   \n",
       "195581    76_DONCASTER_3876     76    DONCASTER   3876   \n",
       "195721    76_DONCASTER_4261     76    DONCASTER   4261   \n",
       "196223    76_DONCASTER_6570     76    DONCASTER   6570   \n",
       "196395    76_DONCASTER_8068     76    DONCASTER   8068   \n",
       "204102    79_BALLYMENA_3859     79    BALLYMENA   3859   \n",
       "\n",
       "                         Description   Size  onHand  Price   startDate  \n",
       "45031          Smirnoff Citrus Vodka   50mL     547   0.99  2016-01-01  \n",
       "74815                     Yukon Jack   50mL     714   0.99  2016-01-01  \n",
       "75125                 Pinnacle Vodka   50mL     558   0.99  2016-01-01  \n",
       "75294                Ketel One Vodka   50mL     506   2.79  2016-01-01  \n",
       "76184           Bacardi Superior Rum   50mL     507   1.29  2016-01-01  \n",
       "...                              ...    ...     ...    ...         ...  \n",
       "195581             Smirnoff 80 Proof  1.75L     541  17.99  2016-01-01  \n",
       "195721        Capt Morgan Spiced Rum  1.75L     639  21.99  2016-01-01  \n",
       "196223  Kendall Jackson Chard Vt RSV  750mL     621   9.95  2016-01-01  \n",
       "196395              Absolut 80 Proof  1.75L     789  24.99  2016-01-01  \n",
       "204102             Smirnoff 80 Proof  375mL    1163   8.99  2016-01-01  \n",
       "\n",
       "[68 rows x 9 columns]"
      ]
     },
     "execution_count": 80,
     "metadata": {},
     "output_type": "execute_result"
    }
   ],
   "source": [
    "surpluses"
   ]
  },
  {
   "cell_type": "code",
   "execution_count": null,
   "id": "1cb6ddc3",
   "metadata": {},
   "outputs": [],
   "source": []
  }
 ],
 "metadata": {
  "kernelspec": {
   "display_name": "Python 3 (ipykernel)",
   "language": "python",
   "name": "python3"
  },
  "language_info": {
   "codemirror_mode": {
    "name": "ipython",
    "version": 3
   },
   "file_extension": ".py",
   "mimetype": "text/x-python",
   "name": "python",
   "nbconvert_exporter": "python",
   "pygments_lexer": "ipython3",
   "version": "3.9.12"
  }
 },
 "nbformat": 4,
 "nbformat_minor": 5
}
